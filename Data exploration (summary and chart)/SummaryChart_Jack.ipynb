{
 "cells": [
  {
   "cell_type": "code",
   "execution_count": 2,
   "metadata": {},
   "outputs": [
    {
     "data": {
      "text/html": [
       "<div>\n",
       "<style scoped>\n",
       "    .dataframe tbody tr th:only-of-type {\n",
       "        vertical-align: middle;\n",
       "    }\n",
       "\n",
       "    .dataframe tbody tr th {\n",
       "        vertical-align: top;\n",
       "    }\n",
       "\n",
       "    .dataframe thead th {\n",
       "        text-align: right;\n",
       "    }\n",
       "</style>\n",
       "<table border=\"1\" class=\"dataframe\">\n",
       "  <thead>\n",
       "    <tr style=\"text-align: right;\">\n",
       "      <th></th>\n",
       "      <th>Unnamed: 0</th>\n",
       "      <th>Postal Abbr.</th>\n",
       "      <th>State</th>\n",
       "      <th>Year</th>\n",
       "      <th>Civilian_labor_force</th>\n",
       "      <th>Employed</th>\n",
       "      <th>Unemployed</th>\n",
       "      <th>Unemployment_rate</th>\n",
       "      <th>Disposable personal income</th>\n",
       "      <th>Gross domestic product (GDP)</th>\n",
       "      <th>...</th>\n",
       "      <th>Total violent robbery</th>\n",
       "      <th>No. of persons 25 and over (in thou)  Total</th>\n",
       "      <th>No. of persons 25 and over (in thou)  Male</th>\n",
       "      <th>No. of persons 25 and over (in thou)  Female</th>\n",
       "      <th>Percentage with high school completion or higher (%)  total</th>\n",
       "      <th>Percentage with high school completion or higher (%)  Male</th>\n",
       "      <th>Percentage with high school completion or higher (%)  Female</th>\n",
       "      <th>Percentage with bachelor's or higher degree (%)  total</th>\n",
       "      <th>Percentage with bachelor's or higher degree (%)  Male</th>\n",
       "      <th>Percentage with bachelor's or higher degree (%)  Female</th>\n",
       "    </tr>\n",
       "  </thead>\n",
       "  <tbody>\n",
       "    <tr>\n",
       "      <th>0</th>\n",
       "      <td>0</td>\n",
       "      <td>AL</td>\n",
       "      <td>Alabama</td>\n",
       "      <td>2013</td>\n",
       "      <td>2172102</td>\n",
       "      <td>2012828</td>\n",
       "      <td>159274</td>\n",
       "      <td>7.3</td>\n",
       "      <td>159063.1</td>\n",
       "      <td>194786.9</td>\n",
       "      <td>...</td>\n",
       "      <td>4648</td>\n",
       "      <td>3226</td>\n",
       "      <td>1525</td>\n",
       "      <td>1701</td>\n",
       "      <td>84.9</td>\n",
       "      <td>84.0</td>\n",
       "      <td>85.7</td>\n",
       "      <td>23.5</td>\n",
       "      <td>23.4</td>\n",
       "      <td>23.5</td>\n",
       "    </tr>\n",
       "    <tr>\n",
       "      <th>1</th>\n",
       "      <td>1</td>\n",
       "      <td>AL</td>\n",
       "      <td>Alabama</td>\n",
       "      <td>2014</td>\n",
       "      <td>2164715</td>\n",
       "      <td>2018705</td>\n",
       "      <td>146010</td>\n",
       "      <td>6.7</td>\n",
       "      <td>164562.8</td>\n",
       "      <td>197406.9</td>\n",
       "      <td>...</td>\n",
       "      <td>4701</td>\n",
       "      <td>3259</td>\n",
       "      <td>1536</td>\n",
       "      <td>1723</td>\n",
       "      <td>84.6</td>\n",
       "      <td>83.7</td>\n",
       "      <td>85.5</td>\n",
       "      <td>23.0</td>\n",
       "      <td>22.7</td>\n",
       "      <td>23.3</td>\n",
       "    </tr>\n",
       "    <tr>\n",
       "      <th>2</th>\n",
       "      <td>2</td>\n",
       "      <td>AL</td>\n",
       "      <td>Alabama</td>\n",
       "      <td>2015</td>\n",
       "      <td>2152295</td>\n",
       "      <td>2020443</td>\n",
       "      <td>131852</td>\n",
       "      <td>6.1</td>\n",
       "      <td>171157.0</td>\n",
       "      <td>202372.4</td>\n",
       "      <td>...</td>\n",
       "      <td>4611</td>\n",
       "      <td>3283</td>\n",
       "      <td>1550</td>\n",
       "      <td>1733</td>\n",
       "      <td>85.1</td>\n",
       "      <td>84.1</td>\n",
       "      <td>86.1</td>\n",
       "      <td>24.0</td>\n",
       "      <td>23.7</td>\n",
       "      <td>24.3</td>\n",
       "    </tr>\n",
       "    <tr>\n",
       "      <th>3</th>\n",
       "      <td>3</td>\n",
       "      <td>AL</td>\n",
       "      <td>Alabama</td>\n",
       "      <td>2016</td>\n",
       "      <td>2155729</td>\n",
       "      <td>2029157</td>\n",
       "      <td>126572</td>\n",
       "      <td>5.9</td>\n",
       "      <td>173653.1</td>\n",
       "      <td>207368.4</td>\n",
       "      <td>...</td>\n",
       "      <td>4686</td>\n",
       "      <td>3300</td>\n",
       "      <td>1558</td>\n",
       "      <td>1742</td>\n",
       "      <td>84.9</td>\n",
       "      <td>83.3</td>\n",
       "      <td>86.3</td>\n",
       "      <td>24.7</td>\n",
       "      <td>24.5</td>\n",
       "      <td>24.9</td>\n",
       "    </tr>\n",
       "    <tr>\n",
       "      <th>4</th>\n",
       "      <td>4</td>\n",
       "      <td>AL</td>\n",
       "      <td>Alabama</td>\n",
       "      <td>2017</td>\n",
       "      <td>2203458</td>\n",
       "      <td>2103873</td>\n",
       "      <td>99585</td>\n",
       "      <td>4.5</td>\n",
       "      <td>180348.3</td>\n",
       "      <td>214606.3</td>\n",
       "      <td>...</td>\n",
       "      <td>4217</td>\n",
       "      <td>3314</td>\n",
       "      <td>1569</td>\n",
       "      <td>1745</td>\n",
       "      <td>86.0</td>\n",
       "      <td>85.0</td>\n",
       "      <td>86.9</td>\n",
       "      <td>25.6</td>\n",
       "      <td>24.7</td>\n",
       "      <td>26.4</td>\n",
       "    </tr>\n",
       "    <tr>\n",
       "      <th>...</th>\n",
       "      <td>...</td>\n",
       "      <td>...</td>\n",
       "      <td>...</td>\n",
       "      <td>...</td>\n",
       "      <td>...</td>\n",
       "      <td>...</td>\n",
       "      <td>...</td>\n",
       "      <td>...</td>\n",
       "      <td>...</td>\n",
       "      <td>...</td>\n",
       "      <td>...</td>\n",
       "      <td>...</td>\n",
       "      <td>...</td>\n",
       "      <td>...</td>\n",
       "      <td>...</td>\n",
       "      <td>...</td>\n",
       "      <td>...</td>\n",
       "      <td>...</td>\n",
       "      <td>...</td>\n",
       "      <td>...</td>\n",
       "      <td>...</td>\n",
       "    </tr>\n",
       "    <tr>\n",
       "      <th>352</th>\n",
       "      <td>352</td>\n",
       "      <td>WY</td>\n",
       "      <td>Wyoming</td>\n",
       "      <td>2015</td>\n",
       "      <td>301608</td>\n",
       "      <td>288894</td>\n",
       "      <td>12714</td>\n",
       "      <td>4.2</td>\n",
       "      <td>30239.2</td>\n",
       "      <td>38426.9</td>\n",
       "      <td>...</td>\n",
       "      <td>59</td>\n",
       "      <td>388</td>\n",
       "      <td>191</td>\n",
       "      <td>197</td>\n",
       "      <td>93.2</td>\n",
       "      <td>93.2</td>\n",
       "      <td>93.1</td>\n",
       "      <td>26.9</td>\n",
       "      <td>26.6</td>\n",
       "      <td>27.1</td>\n",
       "    </tr>\n",
       "    <tr>\n",
       "      <th>353</th>\n",
       "      <td>353</td>\n",
       "      <td>WY</td>\n",
       "      <td>Wyoming</td>\n",
       "      <td>2016</td>\n",
       "      <td>300546</td>\n",
       "      <td>284439</td>\n",
       "      <td>16107</td>\n",
       "      <td>5.4</td>\n",
       "      <td>28807.8</td>\n",
       "      <td>35879.0</td>\n",
       "      <td>...</td>\n",
       "      <td>59</td>\n",
       "      <td>391</td>\n",
       "      <td>199</td>\n",
       "      <td>192</td>\n",
       "      <td>93.2</td>\n",
       "      <td>93.0</td>\n",
       "      <td>93.5</td>\n",
       "      <td>26.5</td>\n",
       "      <td>25.5</td>\n",
       "      <td>27.6</td>\n",
       "    </tr>\n",
       "    <tr>\n",
       "      <th>354</th>\n",
       "      <td>354</td>\n",
       "      <td>WY</td>\n",
       "      <td>Wyoming</td>\n",
       "      <td>2017</td>\n",
       "      <td>293802</td>\n",
       "      <td>281164</td>\n",
       "      <td>12638</td>\n",
       "      <td>4.3</td>\n",
       "      <td>29625.5</td>\n",
       "      <td>36980.7</td>\n",
       "      <td>...</td>\n",
       "      <td>76</td>\n",
       "      <td>389</td>\n",
       "      <td>198</td>\n",
       "      <td>190</td>\n",
       "      <td>93.1</td>\n",
       "      <td>92.7</td>\n",
       "      <td>93.4</td>\n",
       "      <td>27.6</td>\n",
       "      <td>25.9</td>\n",
       "      <td>29.3</td>\n",
       "    </tr>\n",
       "    <tr>\n",
       "      <th>355</th>\n",
       "      <td>355</td>\n",
       "      <td>WY</td>\n",
       "      <td>Wyoming</td>\n",
       "      <td>2018</td>\n",
       "      <td>292629</td>\n",
       "      <td>280754</td>\n",
       "      <td>11875</td>\n",
       "      <td>4.1</td>\n",
       "      <td>31548.4</td>\n",
       "      <td>39171.7</td>\n",
       "      <td>...</td>\n",
       "      <td>100</td>\n",
       "      <td>394</td>\n",
       "      <td>200</td>\n",
       "      <td>194</td>\n",
       "      <td>92.7</td>\n",
       "      <td>92.5</td>\n",
       "      <td>93.0</td>\n",
       "      <td>27.0</td>\n",
       "      <td>25.6</td>\n",
       "      <td>28.4</td>\n",
       "    </tr>\n",
       "    <tr>\n",
       "      <th>356</th>\n",
       "      <td>356</td>\n",
       "      <td>WY</td>\n",
       "      <td>Wyoming</td>\n",
       "      <td>2019</td>\n",
       "      <td>293320</td>\n",
       "      <td>282433</td>\n",
       "      <td>10887</td>\n",
       "      <td>3.7</td>\n",
       "      <td>33339.7</td>\n",
       "      <td>39428.0</td>\n",
       "      <td>...</td>\n",
       "      <td>67</td>\n",
       "      <td>388</td>\n",
       "      <td>195</td>\n",
       "      <td>193</td>\n",
       "      <td>94.5</td>\n",
       "      <td>93.8</td>\n",
       "      <td>95.2</td>\n",
       "      <td>29.1</td>\n",
       "      <td>27.4</td>\n",
       "      <td>30.8</td>\n",
       "    </tr>\n",
       "  </tbody>\n",
       "</table>\n",
       "<p>357 rows × 51 columns</p>\n",
       "</div>"
      ],
      "text/plain": [
       "     Unnamed: 0 Postal Abbr.    State  Year  Civilian_labor_force  Employed  \\\n",
       "0             0           AL  Alabama  2013               2172102   2012828   \n",
       "1             1           AL  Alabama  2014               2164715   2018705   \n",
       "2             2           AL  Alabama  2015               2152295   2020443   \n",
       "3             3           AL  Alabama  2016               2155729   2029157   \n",
       "4             4           AL  Alabama  2017               2203458   2103873   \n",
       "..          ...          ...      ...   ...                   ...       ...   \n",
       "352         352           WY  Wyoming  2015                301608    288894   \n",
       "353         353           WY  Wyoming  2016                300546    284439   \n",
       "354         354           WY  Wyoming  2017                293802    281164   \n",
       "355         355           WY  Wyoming  2018                292629    280754   \n",
       "356         356           WY  Wyoming  2019                293320    282433   \n",
       "\n",
       "     Unemployed  Unemployment_rate  Disposable personal income  \\\n",
       "0        159274                7.3                    159063.1   \n",
       "1        146010                6.7                    164562.8   \n",
       "2        131852                6.1                    171157.0   \n",
       "3        126572                5.9                    173653.1   \n",
       "4         99585                4.5                    180348.3   \n",
       "..          ...                ...                         ...   \n",
       "352       12714                4.2                     30239.2   \n",
       "353       16107                5.4                     28807.8   \n",
       "354       12638                4.3                     29625.5   \n",
       "355       11875                4.1                     31548.4   \n",
       "356       10887                3.7                     33339.7   \n",
       "\n",
       "     Gross domestic product (GDP)  ...  Total violent robbery  \\\n",
       "0                        194786.9  ...                   4648   \n",
       "1                        197406.9  ...                   4701   \n",
       "2                        202372.4  ...                   4611   \n",
       "3                        207368.4  ...                   4686   \n",
       "4                        214606.3  ...                   4217   \n",
       "..                            ...  ...                    ...   \n",
       "352                       38426.9  ...                     59   \n",
       "353                       35879.0  ...                     59   \n",
       "354                       36980.7  ...                     76   \n",
       "355                       39171.7  ...                    100   \n",
       "356                       39428.0  ...                     67   \n",
       "\n",
       "     No. of persons 25 and over (in thou)  Total  \\\n",
       "0                                           3226   \n",
       "1                                           3259   \n",
       "2                                           3283   \n",
       "3                                           3300   \n",
       "4                                           3314   \n",
       "..                                           ...   \n",
       "352                                          388   \n",
       "353                                          391   \n",
       "354                                          389   \n",
       "355                                          394   \n",
       "356                                          388   \n",
       "\n",
       "     No. of persons 25 and over (in thou)  Male  \\\n",
       "0                                          1525   \n",
       "1                                          1536   \n",
       "2                                          1550   \n",
       "3                                          1558   \n",
       "4                                          1569   \n",
       "..                                          ...   \n",
       "352                                         191   \n",
       "353                                         199   \n",
       "354                                         198   \n",
       "355                                         200   \n",
       "356                                         195   \n",
       "\n",
       "     No. of persons 25 and over (in thou)  Female  \\\n",
       "0                                            1701   \n",
       "1                                            1723   \n",
       "2                                            1733   \n",
       "3                                            1742   \n",
       "4                                            1745   \n",
       "..                                            ...   \n",
       "352                                           197   \n",
       "353                                           192   \n",
       "354                                           190   \n",
       "355                                           194   \n",
       "356                                           193   \n",
       "\n",
       "     Percentage with high school completion or higher (%)  total  \\\n",
       "0                                                 84.9             \n",
       "1                                                 84.6             \n",
       "2                                                 85.1             \n",
       "3                                                 84.9             \n",
       "4                                                 86.0             \n",
       "..                                                 ...             \n",
       "352                                               93.2             \n",
       "353                                               93.2             \n",
       "354                                               93.1             \n",
       "355                                               92.7             \n",
       "356                                               94.5             \n",
       "\n",
       "     Percentage with high school completion or higher (%)  Male  \\\n",
       "0                                                 84.0            \n",
       "1                                                 83.7            \n",
       "2                                                 84.1            \n",
       "3                                                 83.3            \n",
       "4                                                 85.0            \n",
       "..                                                 ...            \n",
       "352                                               93.2            \n",
       "353                                               93.0            \n",
       "354                                               92.7            \n",
       "355                                               92.5            \n",
       "356                                               93.8            \n",
       "\n",
       "     Percentage with high school completion or higher (%)  Female  \\\n",
       "0                                                 85.7              \n",
       "1                                                 85.5              \n",
       "2                                                 86.1              \n",
       "3                                                 86.3              \n",
       "4                                                 86.9              \n",
       "..                                                 ...              \n",
       "352                                               93.1              \n",
       "353                                               93.5              \n",
       "354                                               93.4              \n",
       "355                                               93.0              \n",
       "356                                               95.2              \n",
       "\n",
       "     Percentage with bachelor's or higher degree (%)  total  \\\n",
       "0                                                 23.5        \n",
       "1                                                 23.0        \n",
       "2                                                 24.0        \n",
       "3                                                 24.7        \n",
       "4                                                 25.6        \n",
       "..                                                 ...        \n",
       "352                                               26.9        \n",
       "353                                               26.5        \n",
       "354                                               27.6        \n",
       "355                                               27.0        \n",
       "356                                               29.1        \n",
       "\n",
       "     Percentage with bachelor's or higher degree (%)  Male  \\\n",
       "0                                                 23.4       \n",
       "1                                                 22.7       \n",
       "2                                                 23.7       \n",
       "3                                                 24.5       \n",
       "4                                                 24.7       \n",
       "..                                                 ...       \n",
       "352                                               26.6       \n",
       "353                                               25.5       \n",
       "354                                               25.9       \n",
       "355                                               25.6       \n",
       "356                                               27.4       \n",
       "\n",
       "     Percentage with bachelor's or higher degree (%)  Female  \n",
       "0                                                 23.5        \n",
       "1                                                 23.3        \n",
       "2                                                 24.3        \n",
       "3                                                 24.9        \n",
       "4                                                 26.4        \n",
       "..                                                 ...        \n",
       "352                                               27.1        \n",
       "353                                               27.6        \n",
       "354                                               29.3        \n",
       "355                                               28.4        \n",
       "356                                               30.8        \n",
       "\n",
       "[357 rows x 51 columns]"
      ]
     },
     "execution_count": 2,
     "metadata": {},
     "output_type": "execute_result"
    }
   ],
   "source": [
    "import pandas as pd\n",
    "import matplotlib.pyplot as plt\n",
    "import seaborn as sns\n",
    "import plotly.express as px\n",
    "import numpy as np\n",
    "\n",
    "df = pd.read_csv(\"/Users/rouse/Desktop/MergedDataset.csv\")\n",
    "df\n",
    "\n"
   ]
  },
  {
   "cell_type": "code",
   "execution_count": 32,
   "metadata": {},
   "outputs": [
    {
     "data": {
      "application/vnd.plotly.v1+json": {
       "config": {
        "plotlyServerURL": "https://plot.ly"
       },
       "data": [
        {
         "coloraxis": "coloraxis",
         "geo": "geo",
         "hovertemplate": "<b>%{hovertext}</b><br><br>Postal Abbr.=%{location}<br>Per capita personal income=%{z}<extra></extra>",
         "hovertext": [
          "Alabama",
          "Alaska",
          "Arizona",
          "Arkansas",
          "California",
          "Colorado",
          "Connecticut",
          "Delaware",
          "District of Columbia",
          "Florida",
          "Georgia",
          "Hawaii",
          "Idaho",
          "Illinois",
          "Indiana",
          "Iowa",
          "Kansas",
          "Kentucky",
          "Louisiana",
          "Maine",
          "Maryland",
          "Massachusetts",
          "Michigan",
          "Minnesota",
          "Mississippi",
          "Missouri",
          "Montana",
          "Nebraska",
          "Nevada",
          "New Hampshire",
          "New Jersey",
          "New Mexico",
          "New York",
          "North Carolina",
          "North Dakota",
          "Ohio",
          "Oklahoma",
          "Oregon",
          "Pennsylvania",
          "Rhode Island",
          "South Carolina",
          "South Dakota",
          "Tennessee",
          "Texas",
          "Utah",
          "Vermont",
          "Virginia",
          "Washington",
          "West Virginia",
          "Wisconsin",
          "Wyoming"
         ],
         "locationmode": "USA-states",
         "locations": [
          "AL",
          "AK",
          "AZ",
          "AR",
          "CA",
          "CO",
          "CT",
          "DE",
          "DC",
          "FL",
          "GA",
          "HI",
          "ID",
          "IL",
          "IN",
          "IA",
          "KS",
          "KY",
          "LA",
          "ME",
          "MD",
          "MA",
          "MI",
          "MN",
          "MS",
          "MO",
          "MT",
          "NE",
          "NV",
          "NH",
          "NJ",
          "NM",
          "NY",
          "NC",
          "ND",
          "OH",
          "OK",
          "OR",
          "PA",
          "RI",
          "SC",
          "SD",
          "TN",
          "TX",
          "UT",
          "VT",
          "VA",
          "WA",
          "WV",
          "WI",
          "WY"
         ],
         "name": "",
         "type": "choropleth",
         "z": [
          36014,
          52812,
          37139,
          36677,
          48502,
          47404,
          62647,
          44404,
          67774,
          41162,
          37794,
          43931,
          36095,
          47047,
          39766,
          43439,
          46174,
          36058,
          41376,
          40329,
          52249,
          56628,
          39566,
          47838,
          34259,
          40569,
          40674,
          46653,
          39664,
          50865,
          54813,
          35088,
          53395,
          38394,
          54900,
          41259,
          44017,
          39788,
          46213,
          45447,
          36204,
          45608,
          39454,
          44816,
          36511,
          45770,
          48573,
          47857,
          35318,
          43050,
          53776
         ]
        }
       ],
       "layout": {
        "coloraxis": {
         "colorbar": {
          "title": {
           "text": "Per capita personal income"
          }
         },
         "colorscale": [
          [
           0,
           "#0d0887"
          ],
          [
           0.1111111111111111,
           "#46039f"
          ],
          [
           0.2222222222222222,
           "#7201a8"
          ],
          [
           0.3333333333333333,
           "#9c179e"
          ],
          [
           0.4444444444444444,
           "#bd3786"
          ],
          [
           0.5555555555555556,
           "#d8576b"
          ],
          [
           0.6666666666666666,
           "#ed7953"
          ],
          [
           0.7777777777777778,
           "#fb9f3a"
          ],
          [
           0.8888888888888888,
           "#fdca26"
          ],
          [
           1,
           "#f0f921"
          ]
         ]
        },
        "geo": {
         "center": {},
         "domain": {
          "x": [
           0,
           1
          ],
          "y": [
           0,
           1
          ]
         },
         "scope": "usa"
        },
        "legend": {
         "tracegroupgap": 0
        },
        "template": {
         "data": {
          "bar": [
           {
            "error_x": {
             "color": "#2a3f5f"
            },
            "error_y": {
             "color": "#2a3f5f"
            },
            "marker": {
             "line": {
              "color": "#E5ECF6",
              "width": 0.5
             },
             "pattern": {
              "fillmode": "overlay",
              "size": 10,
              "solidity": 0.2
             }
            },
            "type": "bar"
           }
          ],
          "barpolar": [
           {
            "marker": {
             "line": {
              "color": "#E5ECF6",
              "width": 0.5
             },
             "pattern": {
              "fillmode": "overlay",
              "size": 10,
              "solidity": 0.2
             }
            },
            "type": "barpolar"
           }
          ],
          "carpet": [
           {
            "aaxis": {
             "endlinecolor": "#2a3f5f",
             "gridcolor": "white",
             "linecolor": "white",
             "minorgridcolor": "white",
             "startlinecolor": "#2a3f5f"
            },
            "baxis": {
             "endlinecolor": "#2a3f5f",
             "gridcolor": "white",
             "linecolor": "white",
             "minorgridcolor": "white",
             "startlinecolor": "#2a3f5f"
            },
            "type": "carpet"
           }
          ],
          "choropleth": [
           {
            "colorbar": {
             "outlinewidth": 0,
             "ticks": ""
            },
            "type": "choropleth"
           }
          ],
          "contour": [
           {
            "colorbar": {
             "outlinewidth": 0,
             "ticks": ""
            },
            "colorscale": [
             [
              0,
              "#0d0887"
             ],
             [
              0.1111111111111111,
              "#46039f"
             ],
             [
              0.2222222222222222,
              "#7201a8"
             ],
             [
              0.3333333333333333,
              "#9c179e"
             ],
             [
              0.4444444444444444,
              "#bd3786"
             ],
             [
              0.5555555555555556,
              "#d8576b"
             ],
             [
              0.6666666666666666,
              "#ed7953"
             ],
             [
              0.7777777777777778,
              "#fb9f3a"
             ],
             [
              0.8888888888888888,
              "#fdca26"
             ],
             [
              1,
              "#f0f921"
             ]
            ],
            "type": "contour"
           }
          ],
          "contourcarpet": [
           {
            "colorbar": {
             "outlinewidth": 0,
             "ticks": ""
            },
            "type": "contourcarpet"
           }
          ],
          "heatmap": [
           {
            "colorbar": {
             "outlinewidth": 0,
             "ticks": ""
            },
            "colorscale": [
             [
              0,
              "#0d0887"
             ],
             [
              0.1111111111111111,
              "#46039f"
             ],
             [
              0.2222222222222222,
              "#7201a8"
             ],
             [
              0.3333333333333333,
              "#9c179e"
             ],
             [
              0.4444444444444444,
              "#bd3786"
             ],
             [
              0.5555555555555556,
              "#d8576b"
             ],
             [
              0.6666666666666666,
              "#ed7953"
             ],
             [
              0.7777777777777778,
              "#fb9f3a"
             ],
             [
              0.8888888888888888,
              "#fdca26"
             ],
             [
              1,
              "#f0f921"
             ]
            ],
            "type": "heatmap"
           }
          ],
          "heatmapgl": [
           {
            "colorbar": {
             "outlinewidth": 0,
             "ticks": ""
            },
            "colorscale": [
             [
              0,
              "#0d0887"
             ],
             [
              0.1111111111111111,
              "#46039f"
             ],
             [
              0.2222222222222222,
              "#7201a8"
             ],
             [
              0.3333333333333333,
              "#9c179e"
             ],
             [
              0.4444444444444444,
              "#bd3786"
             ],
             [
              0.5555555555555556,
              "#d8576b"
             ],
             [
              0.6666666666666666,
              "#ed7953"
             ],
             [
              0.7777777777777778,
              "#fb9f3a"
             ],
             [
              0.8888888888888888,
              "#fdca26"
             ],
             [
              1,
              "#f0f921"
             ]
            ],
            "type": "heatmapgl"
           }
          ],
          "histogram": [
           {
            "marker": {
             "pattern": {
              "fillmode": "overlay",
              "size": 10,
              "solidity": 0.2
             }
            },
            "type": "histogram"
           }
          ],
          "histogram2d": [
           {
            "colorbar": {
             "outlinewidth": 0,
             "ticks": ""
            },
            "colorscale": [
             [
              0,
              "#0d0887"
             ],
             [
              0.1111111111111111,
              "#46039f"
             ],
             [
              0.2222222222222222,
              "#7201a8"
             ],
             [
              0.3333333333333333,
              "#9c179e"
             ],
             [
              0.4444444444444444,
              "#bd3786"
             ],
             [
              0.5555555555555556,
              "#d8576b"
             ],
             [
              0.6666666666666666,
              "#ed7953"
             ],
             [
              0.7777777777777778,
              "#fb9f3a"
             ],
             [
              0.8888888888888888,
              "#fdca26"
             ],
             [
              1,
              "#f0f921"
             ]
            ],
            "type": "histogram2d"
           }
          ],
          "histogram2dcontour": [
           {
            "colorbar": {
             "outlinewidth": 0,
             "ticks": ""
            },
            "colorscale": [
             [
              0,
              "#0d0887"
             ],
             [
              0.1111111111111111,
              "#46039f"
             ],
             [
              0.2222222222222222,
              "#7201a8"
             ],
             [
              0.3333333333333333,
              "#9c179e"
             ],
             [
              0.4444444444444444,
              "#bd3786"
             ],
             [
              0.5555555555555556,
              "#d8576b"
             ],
             [
              0.6666666666666666,
              "#ed7953"
             ],
             [
              0.7777777777777778,
              "#fb9f3a"
             ],
             [
              0.8888888888888888,
              "#fdca26"
             ],
             [
              1,
              "#f0f921"
             ]
            ],
            "type": "histogram2dcontour"
           }
          ],
          "mesh3d": [
           {
            "colorbar": {
             "outlinewidth": 0,
             "ticks": ""
            },
            "type": "mesh3d"
           }
          ],
          "parcoords": [
           {
            "line": {
             "colorbar": {
              "outlinewidth": 0,
              "ticks": ""
             }
            },
            "type": "parcoords"
           }
          ],
          "pie": [
           {
            "automargin": true,
            "type": "pie"
           }
          ],
          "scatter": [
           {
            "fillpattern": {
             "fillmode": "overlay",
             "size": 10,
             "solidity": 0.2
            },
            "type": "scatter"
           }
          ],
          "scatter3d": [
           {
            "line": {
             "colorbar": {
              "outlinewidth": 0,
              "ticks": ""
             }
            },
            "marker": {
             "colorbar": {
              "outlinewidth": 0,
              "ticks": ""
             }
            },
            "type": "scatter3d"
           }
          ],
          "scattercarpet": [
           {
            "marker": {
             "colorbar": {
              "outlinewidth": 0,
              "ticks": ""
             }
            },
            "type": "scattercarpet"
           }
          ],
          "scattergeo": [
           {
            "marker": {
             "colorbar": {
              "outlinewidth": 0,
              "ticks": ""
             }
            },
            "type": "scattergeo"
           }
          ],
          "scattergl": [
           {
            "marker": {
             "colorbar": {
              "outlinewidth": 0,
              "ticks": ""
             }
            },
            "type": "scattergl"
           }
          ],
          "scattermapbox": [
           {
            "marker": {
             "colorbar": {
              "outlinewidth": 0,
              "ticks": ""
             }
            },
            "type": "scattermapbox"
           }
          ],
          "scatterpolar": [
           {
            "marker": {
             "colorbar": {
              "outlinewidth": 0,
              "ticks": ""
             }
            },
            "type": "scatterpolar"
           }
          ],
          "scatterpolargl": [
           {
            "marker": {
             "colorbar": {
              "outlinewidth": 0,
              "ticks": ""
             }
            },
            "type": "scatterpolargl"
           }
          ],
          "scatterternary": [
           {
            "marker": {
             "colorbar": {
              "outlinewidth": 0,
              "ticks": ""
             }
            },
            "type": "scatterternary"
           }
          ],
          "surface": [
           {
            "colorbar": {
             "outlinewidth": 0,
             "ticks": ""
            },
            "colorscale": [
             [
              0,
              "#0d0887"
             ],
             [
              0.1111111111111111,
              "#46039f"
             ],
             [
              0.2222222222222222,
              "#7201a8"
             ],
             [
              0.3333333333333333,
              "#9c179e"
             ],
             [
              0.4444444444444444,
              "#bd3786"
             ],
             [
              0.5555555555555556,
              "#d8576b"
             ],
             [
              0.6666666666666666,
              "#ed7953"
             ],
             [
              0.7777777777777778,
              "#fb9f3a"
             ],
             [
              0.8888888888888888,
              "#fdca26"
             ],
             [
              1,
              "#f0f921"
             ]
            ],
            "type": "surface"
           }
          ],
          "table": [
           {
            "cells": {
             "fill": {
              "color": "#EBF0F8"
             },
             "line": {
              "color": "white"
             }
            },
            "header": {
             "fill": {
              "color": "#C8D4E3"
             },
             "line": {
              "color": "white"
             }
            },
            "type": "table"
           }
          ]
         },
         "layout": {
          "annotationdefaults": {
           "arrowcolor": "#2a3f5f",
           "arrowhead": 0,
           "arrowwidth": 1
          },
          "autotypenumbers": "strict",
          "coloraxis": {
           "colorbar": {
            "outlinewidth": 0,
            "ticks": ""
           }
          },
          "colorscale": {
           "diverging": [
            [
             0,
             "#8e0152"
            ],
            [
             0.1,
             "#c51b7d"
            ],
            [
             0.2,
             "#de77ae"
            ],
            [
             0.3,
             "#f1b6da"
            ],
            [
             0.4,
             "#fde0ef"
            ],
            [
             0.5,
             "#f7f7f7"
            ],
            [
             0.6,
             "#e6f5d0"
            ],
            [
             0.7,
             "#b8e186"
            ],
            [
             0.8,
             "#7fbc41"
            ],
            [
             0.9,
             "#4d9221"
            ],
            [
             1,
             "#276419"
            ]
           ],
           "sequential": [
            [
             0,
             "#0d0887"
            ],
            [
             0.1111111111111111,
             "#46039f"
            ],
            [
             0.2222222222222222,
             "#7201a8"
            ],
            [
             0.3333333333333333,
             "#9c179e"
            ],
            [
             0.4444444444444444,
             "#bd3786"
            ],
            [
             0.5555555555555556,
             "#d8576b"
            ],
            [
             0.6666666666666666,
             "#ed7953"
            ],
            [
             0.7777777777777778,
             "#fb9f3a"
            ],
            [
             0.8888888888888888,
             "#fdca26"
            ],
            [
             1,
             "#f0f921"
            ]
           ],
           "sequentialminus": [
            [
             0,
             "#0d0887"
            ],
            [
             0.1111111111111111,
             "#46039f"
            ],
            [
             0.2222222222222222,
             "#7201a8"
            ],
            [
             0.3333333333333333,
             "#9c179e"
            ],
            [
             0.4444444444444444,
             "#bd3786"
            ],
            [
             0.5555555555555556,
             "#d8576b"
            ],
            [
             0.6666666666666666,
             "#ed7953"
            ],
            [
             0.7777777777777778,
             "#fb9f3a"
            ],
            [
             0.8888888888888888,
             "#fdca26"
            ],
            [
             1,
             "#f0f921"
            ]
           ]
          },
          "colorway": [
           "#636efa",
           "#EF553B",
           "#00cc96",
           "#ab63fa",
           "#FFA15A",
           "#19d3f3",
           "#FF6692",
           "#B6E880",
           "#FF97FF",
           "#FECB52"
          ],
          "font": {
           "color": "#2a3f5f"
          },
          "geo": {
           "bgcolor": "white",
           "lakecolor": "white",
           "landcolor": "#E5ECF6",
           "showlakes": true,
           "showland": true,
           "subunitcolor": "white"
          },
          "hoverlabel": {
           "align": "left"
          },
          "hovermode": "closest",
          "mapbox": {
           "style": "light"
          },
          "paper_bgcolor": "white",
          "plot_bgcolor": "#E5ECF6",
          "polar": {
           "angularaxis": {
            "gridcolor": "white",
            "linecolor": "white",
            "ticks": ""
           },
           "bgcolor": "#E5ECF6",
           "radialaxis": {
            "gridcolor": "white",
            "linecolor": "white",
            "ticks": ""
           }
          },
          "scene": {
           "xaxis": {
            "backgroundcolor": "#E5ECF6",
            "gridcolor": "white",
            "gridwidth": 2,
            "linecolor": "white",
            "showbackground": true,
            "ticks": "",
            "zerolinecolor": "white"
           },
           "yaxis": {
            "backgroundcolor": "#E5ECF6",
            "gridcolor": "white",
            "gridwidth": 2,
            "linecolor": "white",
            "showbackground": true,
            "ticks": "",
            "zerolinecolor": "white"
           },
           "zaxis": {
            "backgroundcolor": "#E5ECF6",
            "gridcolor": "white",
            "gridwidth": 2,
            "linecolor": "white",
            "showbackground": true,
            "ticks": "",
            "zerolinecolor": "white"
           }
          },
          "shapedefaults": {
           "line": {
            "color": "#2a3f5f"
           }
          },
          "ternary": {
           "aaxis": {
            "gridcolor": "white",
            "linecolor": "white",
            "ticks": ""
           },
           "baxis": {
            "gridcolor": "white",
            "linecolor": "white",
            "ticks": ""
           },
           "bgcolor": "#E5ECF6",
           "caxis": {
            "gridcolor": "white",
            "linecolor": "white",
            "ticks": ""
           }
          },
          "title": {
           "x": 0.05
          },
          "xaxis": {
           "automargin": true,
           "gridcolor": "white",
           "linecolor": "white",
           "ticks": "",
           "title": {
            "standoff": 15
           },
           "zerolinecolor": "white",
           "zerolinewidth": 2
          },
          "yaxis": {
           "automargin": true,
           "gridcolor": "white",
           "linecolor": "white",
           "ticks": "",
           "title": {
            "standoff": 15
           },
           "zerolinecolor": "white",
           "zerolinewidth": 2
          }
         }
        },
        "title": {
         "text": "Per Capita Personal Income by State in the USA in 2013"
        }
       }
      }
     },
     "metadata": {},
     "output_type": "display_data"
    }
   ],
   "source": [
    "df_2013 = df[df[\"Year\"] == 2013]\n",
    "fig = px.choropleth(df_2013, \n",
    "                    locations = \"Postal Abbr.\",\n",
    "                    locationmode = \"USA-states\",\n",
    "                    color = \"Per capita personal income\",\n",
    "                    hover_name = \"State\",\n",
    "                    color_continuous_scale = px.colors.sequential.Plasma,\n",
    "                    scope = \"usa\",\n",
    "                    title = \"Per Capita Personal Income by State in the USA in 2013\")\n",
    "fig.show()"
   ]
  },
  {
   "cell_type": "code",
   "execution_count": 3,
   "metadata": {},
   "outputs": [
    {
     "data": {
      "application/vnd.plotly.v1+json": {
       "config": {
        "plotlyServerURL": "https://plot.ly"
       },
       "data": [
        {
         "coloraxis": "coloraxis",
         "geo": "geo",
         "hovertemplate": "<b>%{hovertext}</b><br><br>Postal Abbr.=%{location}<br>Percentage with high school completion or higher (%)  total=%{z}<extra></extra>",
         "hovertext": [
          "Alabama",
          "Alaska",
          "Arizona",
          "Arkansas",
          "California",
          "Colorado",
          "Connecticut",
          "Delaware",
          "District of Columbia",
          "Florida",
          "Georgia",
          "Hawaii",
          "Idaho",
          "Illinois",
          "Indiana",
          "Iowa",
          "Kansas",
          "Kentucky",
          "Louisiana",
          "Maine",
          "Maryland",
          "Massachusetts",
          "Michigan",
          "Minnesota",
          "Mississippi",
          "Missouri",
          "Montana",
          "Nebraska",
          "Nevada",
          "New Hampshire",
          "New Jersey",
          "New Mexico",
          "New York",
          "North Carolina",
          "North Dakota",
          "Ohio",
          "Oklahoma",
          "Oregon",
          "Pennsylvania",
          "Rhode Island",
          "South Carolina",
          "South Dakota",
          "Tennessee",
          "Texas",
          "Utah",
          "Vermont",
          "Virginia",
          "Washington",
          "West Virginia",
          "Wisconsin",
          "Wyoming"
         ],
         "locationmode": "USA-states",
         "locations": [
          "AL",
          "AK",
          "AZ",
          "AR",
          "CA",
          "CO",
          "CT",
          "DE",
          "DC",
          "FL",
          "GA",
          "HI",
          "ID",
          "IL",
          "IN",
          "IA",
          "KS",
          "KY",
          "LA",
          "ME",
          "MD",
          "MA",
          "MI",
          "MN",
          "MS",
          "MO",
          "MT",
          "NE",
          "NV",
          "NH",
          "NJ",
          "NM",
          "NY",
          "NC",
          "ND",
          "OH",
          "OK",
          "OR",
          "PA",
          "RI",
          "SC",
          "SD",
          "TN",
          "TX",
          "UT",
          "VT",
          "VA",
          "WA",
          "WV",
          "WI",
          "WY"
         ],
         "name": "",
         "type": "choropleth",
         "z": [
          84.9,
          91.6,
          85.8,
          84.5,
          81.7,
          90.5,
          89.7,
          88.1,
          89.9,
          86.8,
          85.6,
          91,
          89.4,
          87.9,
          87.6,
          91.6,
          90.3,
          83.9,
          83,
          92.1,
          89.3,
          90.1,
          89.4,
          92.2,
          82.3,
          89,
          93.2,
          90.6,
          85.2,
          92.6,
          88.4,
          83.7,
          85.4,
          85.7,
          91.9,
          89.1,
          86.7,
          89.6,
          89.2,
          86.3,
          85.4,
          91.3,
          85.6,
          81.9,
          91.6,
          91.5,
          88.3,
          90.2,
          84.6,
          90.6,
          93.6
         ]
        }
       ],
       "layout": {
        "coloraxis": {
         "colorbar": {
          "title": {
           "text": "Percentage with high school completion or higher (%)  total"
          }
         },
         "colorscale": [
          [
           0,
           "#0d0887"
          ],
          [
           0.1111111111111111,
           "#46039f"
          ],
          [
           0.2222222222222222,
           "#7201a8"
          ],
          [
           0.3333333333333333,
           "#9c179e"
          ],
          [
           0.4444444444444444,
           "#bd3786"
          ],
          [
           0.5555555555555556,
           "#d8576b"
          ],
          [
           0.6666666666666666,
           "#ed7953"
          ],
          [
           0.7777777777777778,
           "#fb9f3a"
          ],
          [
           0.8888888888888888,
           "#fdca26"
          ],
          [
           1,
           "#f0f921"
          ]
         ]
        },
        "geo": {
         "center": {},
         "domain": {
          "x": [
           0,
           1
          ],
          "y": [
           0,
           1
          ]
         },
         "scope": "usa"
        },
        "legend": {
         "tracegroupgap": 0
        },
        "template": {
         "data": {
          "bar": [
           {
            "error_x": {
             "color": "#2a3f5f"
            },
            "error_y": {
             "color": "#2a3f5f"
            },
            "marker": {
             "line": {
              "color": "#E5ECF6",
              "width": 0.5
             },
             "pattern": {
              "fillmode": "overlay",
              "size": 10,
              "solidity": 0.2
             }
            },
            "type": "bar"
           }
          ],
          "barpolar": [
           {
            "marker": {
             "line": {
              "color": "#E5ECF6",
              "width": 0.5
             },
             "pattern": {
              "fillmode": "overlay",
              "size": 10,
              "solidity": 0.2
             }
            },
            "type": "barpolar"
           }
          ],
          "carpet": [
           {
            "aaxis": {
             "endlinecolor": "#2a3f5f",
             "gridcolor": "white",
             "linecolor": "white",
             "minorgridcolor": "white",
             "startlinecolor": "#2a3f5f"
            },
            "baxis": {
             "endlinecolor": "#2a3f5f",
             "gridcolor": "white",
             "linecolor": "white",
             "minorgridcolor": "white",
             "startlinecolor": "#2a3f5f"
            },
            "type": "carpet"
           }
          ],
          "choropleth": [
           {
            "colorbar": {
             "outlinewidth": 0,
             "ticks": ""
            },
            "type": "choropleth"
           }
          ],
          "contour": [
           {
            "colorbar": {
             "outlinewidth": 0,
             "ticks": ""
            },
            "colorscale": [
             [
              0,
              "#0d0887"
             ],
             [
              0.1111111111111111,
              "#46039f"
             ],
             [
              0.2222222222222222,
              "#7201a8"
             ],
             [
              0.3333333333333333,
              "#9c179e"
             ],
             [
              0.4444444444444444,
              "#bd3786"
             ],
             [
              0.5555555555555556,
              "#d8576b"
             ],
             [
              0.6666666666666666,
              "#ed7953"
             ],
             [
              0.7777777777777778,
              "#fb9f3a"
             ],
             [
              0.8888888888888888,
              "#fdca26"
             ],
             [
              1,
              "#f0f921"
             ]
            ],
            "type": "contour"
           }
          ],
          "contourcarpet": [
           {
            "colorbar": {
             "outlinewidth": 0,
             "ticks": ""
            },
            "type": "contourcarpet"
           }
          ],
          "heatmap": [
           {
            "colorbar": {
             "outlinewidth": 0,
             "ticks": ""
            },
            "colorscale": [
             [
              0,
              "#0d0887"
             ],
             [
              0.1111111111111111,
              "#46039f"
             ],
             [
              0.2222222222222222,
              "#7201a8"
             ],
             [
              0.3333333333333333,
              "#9c179e"
             ],
             [
              0.4444444444444444,
              "#bd3786"
             ],
             [
              0.5555555555555556,
              "#d8576b"
             ],
             [
              0.6666666666666666,
              "#ed7953"
             ],
             [
              0.7777777777777778,
              "#fb9f3a"
             ],
             [
              0.8888888888888888,
              "#fdca26"
             ],
             [
              1,
              "#f0f921"
             ]
            ],
            "type": "heatmap"
           }
          ],
          "heatmapgl": [
           {
            "colorbar": {
             "outlinewidth": 0,
             "ticks": ""
            },
            "colorscale": [
             [
              0,
              "#0d0887"
             ],
             [
              0.1111111111111111,
              "#46039f"
             ],
             [
              0.2222222222222222,
              "#7201a8"
             ],
             [
              0.3333333333333333,
              "#9c179e"
             ],
             [
              0.4444444444444444,
              "#bd3786"
             ],
             [
              0.5555555555555556,
              "#d8576b"
             ],
             [
              0.6666666666666666,
              "#ed7953"
             ],
             [
              0.7777777777777778,
              "#fb9f3a"
             ],
             [
              0.8888888888888888,
              "#fdca26"
             ],
             [
              1,
              "#f0f921"
             ]
            ],
            "type": "heatmapgl"
           }
          ],
          "histogram": [
           {
            "marker": {
             "pattern": {
              "fillmode": "overlay",
              "size": 10,
              "solidity": 0.2
             }
            },
            "type": "histogram"
           }
          ],
          "histogram2d": [
           {
            "colorbar": {
             "outlinewidth": 0,
             "ticks": ""
            },
            "colorscale": [
             [
              0,
              "#0d0887"
             ],
             [
              0.1111111111111111,
              "#46039f"
             ],
             [
              0.2222222222222222,
              "#7201a8"
             ],
             [
              0.3333333333333333,
              "#9c179e"
             ],
             [
              0.4444444444444444,
              "#bd3786"
             ],
             [
              0.5555555555555556,
              "#d8576b"
             ],
             [
              0.6666666666666666,
              "#ed7953"
             ],
             [
              0.7777777777777778,
              "#fb9f3a"
             ],
             [
              0.8888888888888888,
              "#fdca26"
             ],
             [
              1,
              "#f0f921"
             ]
            ],
            "type": "histogram2d"
           }
          ],
          "histogram2dcontour": [
           {
            "colorbar": {
             "outlinewidth": 0,
             "ticks": ""
            },
            "colorscale": [
             [
              0,
              "#0d0887"
             ],
             [
              0.1111111111111111,
              "#46039f"
             ],
             [
              0.2222222222222222,
              "#7201a8"
             ],
             [
              0.3333333333333333,
              "#9c179e"
             ],
             [
              0.4444444444444444,
              "#bd3786"
             ],
             [
              0.5555555555555556,
              "#d8576b"
             ],
             [
              0.6666666666666666,
              "#ed7953"
             ],
             [
              0.7777777777777778,
              "#fb9f3a"
             ],
             [
              0.8888888888888888,
              "#fdca26"
             ],
             [
              1,
              "#f0f921"
             ]
            ],
            "type": "histogram2dcontour"
           }
          ],
          "mesh3d": [
           {
            "colorbar": {
             "outlinewidth": 0,
             "ticks": ""
            },
            "type": "mesh3d"
           }
          ],
          "parcoords": [
           {
            "line": {
             "colorbar": {
              "outlinewidth": 0,
              "ticks": ""
             }
            },
            "type": "parcoords"
           }
          ],
          "pie": [
           {
            "automargin": true,
            "type": "pie"
           }
          ],
          "scatter": [
           {
            "fillpattern": {
             "fillmode": "overlay",
             "size": 10,
             "solidity": 0.2
            },
            "type": "scatter"
           }
          ],
          "scatter3d": [
           {
            "line": {
             "colorbar": {
              "outlinewidth": 0,
              "ticks": ""
             }
            },
            "marker": {
             "colorbar": {
              "outlinewidth": 0,
              "ticks": ""
             }
            },
            "type": "scatter3d"
           }
          ],
          "scattercarpet": [
           {
            "marker": {
             "colorbar": {
              "outlinewidth": 0,
              "ticks": ""
             }
            },
            "type": "scattercarpet"
           }
          ],
          "scattergeo": [
           {
            "marker": {
             "colorbar": {
              "outlinewidth": 0,
              "ticks": ""
             }
            },
            "type": "scattergeo"
           }
          ],
          "scattergl": [
           {
            "marker": {
             "colorbar": {
              "outlinewidth": 0,
              "ticks": ""
             }
            },
            "type": "scattergl"
           }
          ],
          "scattermapbox": [
           {
            "marker": {
             "colorbar": {
              "outlinewidth": 0,
              "ticks": ""
             }
            },
            "type": "scattermapbox"
           }
          ],
          "scatterpolar": [
           {
            "marker": {
             "colorbar": {
              "outlinewidth": 0,
              "ticks": ""
             }
            },
            "type": "scatterpolar"
           }
          ],
          "scatterpolargl": [
           {
            "marker": {
             "colorbar": {
              "outlinewidth": 0,
              "ticks": ""
             }
            },
            "type": "scatterpolargl"
           }
          ],
          "scatterternary": [
           {
            "marker": {
             "colorbar": {
              "outlinewidth": 0,
              "ticks": ""
             }
            },
            "type": "scatterternary"
           }
          ],
          "surface": [
           {
            "colorbar": {
             "outlinewidth": 0,
             "ticks": ""
            },
            "colorscale": [
             [
              0,
              "#0d0887"
             ],
             [
              0.1111111111111111,
              "#46039f"
             ],
             [
              0.2222222222222222,
              "#7201a8"
             ],
             [
              0.3333333333333333,
              "#9c179e"
             ],
             [
              0.4444444444444444,
              "#bd3786"
             ],
             [
              0.5555555555555556,
              "#d8576b"
             ],
             [
              0.6666666666666666,
              "#ed7953"
             ],
             [
              0.7777777777777778,
              "#fb9f3a"
             ],
             [
              0.8888888888888888,
              "#fdca26"
             ],
             [
              1,
              "#f0f921"
             ]
            ],
            "type": "surface"
           }
          ],
          "table": [
           {
            "cells": {
             "fill": {
              "color": "#EBF0F8"
             },
             "line": {
              "color": "white"
             }
            },
            "header": {
             "fill": {
              "color": "#C8D4E3"
             },
             "line": {
              "color": "white"
             }
            },
            "type": "table"
           }
          ]
         },
         "layout": {
          "annotationdefaults": {
           "arrowcolor": "#2a3f5f",
           "arrowhead": 0,
           "arrowwidth": 1
          },
          "autotypenumbers": "strict",
          "coloraxis": {
           "colorbar": {
            "outlinewidth": 0,
            "ticks": ""
           }
          },
          "colorscale": {
           "diverging": [
            [
             0,
             "#8e0152"
            ],
            [
             0.1,
             "#c51b7d"
            ],
            [
             0.2,
             "#de77ae"
            ],
            [
             0.3,
             "#f1b6da"
            ],
            [
             0.4,
             "#fde0ef"
            ],
            [
             0.5,
             "#f7f7f7"
            ],
            [
             0.6,
             "#e6f5d0"
            ],
            [
             0.7,
             "#b8e186"
            ],
            [
             0.8,
             "#7fbc41"
            ],
            [
             0.9,
             "#4d9221"
            ],
            [
             1,
             "#276419"
            ]
           ],
           "sequential": [
            [
             0,
             "#0d0887"
            ],
            [
             0.1111111111111111,
             "#46039f"
            ],
            [
             0.2222222222222222,
             "#7201a8"
            ],
            [
             0.3333333333333333,
             "#9c179e"
            ],
            [
             0.4444444444444444,
             "#bd3786"
            ],
            [
             0.5555555555555556,
             "#d8576b"
            ],
            [
             0.6666666666666666,
             "#ed7953"
            ],
            [
             0.7777777777777778,
             "#fb9f3a"
            ],
            [
             0.8888888888888888,
             "#fdca26"
            ],
            [
             1,
             "#f0f921"
            ]
           ],
           "sequentialminus": [
            [
             0,
             "#0d0887"
            ],
            [
             0.1111111111111111,
             "#46039f"
            ],
            [
             0.2222222222222222,
             "#7201a8"
            ],
            [
             0.3333333333333333,
             "#9c179e"
            ],
            [
             0.4444444444444444,
             "#bd3786"
            ],
            [
             0.5555555555555556,
             "#d8576b"
            ],
            [
             0.6666666666666666,
             "#ed7953"
            ],
            [
             0.7777777777777778,
             "#fb9f3a"
            ],
            [
             0.8888888888888888,
             "#fdca26"
            ],
            [
             1,
             "#f0f921"
            ]
           ]
          },
          "colorway": [
           "#636efa",
           "#EF553B",
           "#00cc96",
           "#ab63fa",
           "#FFA15A",
           "#19d3f3",
           "#FF6692",
           "#B6E880",
           "#FF97FF",
           "#FECB52"
          ],
          "font": {
           "color": "#2a3f5f"
          },
          "geo": {
           "bgcolor": "white",
           "lakecolor": "white",
           "landcolor": "#E5ECF6",
           "showlakes": true,
           "showland": true,
           "subunitcolor": "white"
          },
          "hoverlabel": {
           "align": "left"
          },
          "hovermode": "closest",
          "mapbox": {
           "style": "light"
          },
          "paper_bgcolor": "white",
          "plot_bgcolor": "#E5ECF6",
          "polar": {
           "angularaxis": {
            "gridcolor": "white",
            "linecolor": "white",
            "ticks": ""
           },
           "bgcolor": "#E5ECF6",
           "radialaxis": {
            "gridcolor": "white",
            "linecolor": "white",
            "ticks": ""
           }
          },
          "scene": {
           "xaxis": {
            "backgroundcolor": "#E5ECF6",
            "gridcolor": "white",
            "gridwidth": 2,
            "linecolor": "white",
            "showbackground": true,
            "ticks": "",
            "zerolinecolor": "white"
           },
           "yaxis": {
            "backgroundcolor": "#E5ECF6",
            "gridcolor": "white",
            "gridwidth": 2,
            "linecolor": "white",
            "showbackground": true,
            "ticks": "",
            "zerolinecolor": "white"
           },
           "zaxis": {
            "backgroundcolor": "#E5ECF6",
            "gridcolor": "white",
            "gridwidth": 2,
            "linecolor": "white",
            "showbackground": true,
            "ticks": "",
            "zerolinecolor": "white"
           }
          },
          "shapedefaults": {
           "line": {
            "color": "#2a3f5f"
           }
          },
          "ternary": {
           "aaxis": {
            "gridcolor": "white",
            "linecolor": "white",
            "ticks": ""
           },
           "baxis": {
            "gridcolor": "white",
            "linecolor": "white",
            "ticks": ""
           },
           "bgcolor": "#E5ECF6",
           "caxis": {
            "gridcolor": "white",
            "linecolor": "white",
            "ticks": ""
           }
          },
          "title": {
           "x": 0.05
          },
          "xaxis": {
           "automargin": true,
           "gridcolor": "white",
           "linecolor": "white",
           "ticks": "",
           "title": {
            "standoff": 15
           },
           "zerolinecolor": "white",
           "zerolinewidth": 2
          },
          "yaxis": {
           "automargin": true,
           "gridcolor": "white",
           "linecolor": "white",
           "ticks": "",
           "title": {
            "standoff": 15
           },
           "zerolinecolor": "white",
           "zerolinewidth": 2
          }
         }
        },
        "title": {
         "text": "Percentage with high school completion or higher (%) in the USA in 2013"
        }
       }
      }
     },
     "metadata": {},
     "output_type": "display_data"
    }
   ],
   "source": [
    "\n",
    "fig = px.choropleth(df_2013, \n",
    "                    locations = \"Postal Abbr.\",\n",
    "                    locationmode = \"USA-states\",\n",
    "                    color = \"Percentage with high school completion or higher (%)  total\",\n",
    "                    hover_name = \"State\",\n",
    "                    color_continuous_scale = px.colors.sequential.Plasma,\n",
    "                    scope = \"usa\",\n",
    "                    title = \"Percentage with high school completion or higher (%) in the USA in 2013\")\n",
    "fig.show()"
   ]
  },
  {
   "cell_type": "code",
   "execution_count": 12,
   "metadata": {},
   "outputs": [],
   "source": [
    "# aggregate_df_1 = df_2013[[\"State\", \"Per capita personal income\"]]\n",
    "# top_10_states_by_income = aggregate_df_1.sort_values(by = \"Per capita personal income\", ascending = False).head(10)\n",
    "# top_10_states_by_income_csv = pd.DataFrame(top_10_states_by_income)\n",
    "# top_10_states_by_income_csv.rename(columns = {\"State\": \"States with the highest per capita personal income in 2013 (from descending order)\"})"
   ]
  },
  {
   "cell_type": "code",
   "execution_count": 14,
   "metadata": {},
   "outputs": [],
   "source": [
    "# aggregate_df_2 = df_2013[[\"State\", \"Percentage with high school completion or higher (%)  total\"]]\n",
    "# top_10_states_by_income = aggregate_df_2.sort_values(by = \"Percentage with high school completion or higher (%)  total\", ascending = False).head(10)\n",
    "# top_10_states_by_income_csv = pd.DataFrame(top_10_states_by_income)\n",
    "# top_10_states_by_income_csv.rename(columns = {\"State\": \"States with the highest percentage of high school completion or higher in 2013 (from descending order)\"})"
   ]
  },
  {
   "cell_type": "code",
   "execution_count": 13,
   "metadata": {},
   "outputs": [],
   "source": [
    "# bottom_10_states_by_income = aggregate_df_1.sort_values(by = \"Per capita personal income\", ascending = True).head(10)\n",
    "# bottom_10_states_by_income_csv = pd.DataFrame(bottom_10_states_by_income)\n",
    "# bottom_10_states_by_income_csv.rename(columns = {\"State\": \"States with the lowest per capita personal income in 2013 (from ascending order)\"})"
   ]
  },
  {
   "cell_type": "code",
   "execution_count": 15,
   "metadata": {},
   "outputs": [],
   "source": [
    "# bot_10_states_by_income = aggregate_df_2.sort_values(by = \"Percentage with high school completion or higher (%)  total\", ascending = True).head(10)\n",
    "# bot_10_states_by_income_csv = pd.DataFrame(bot_10_states_by_income)\n",
    "# bot_10_states_by_income_csv.rename(columns = {\"State\": \"States with the lowest percentage of high school completion or higher in 2013 (from aescending order)\"})"
   ]
  },
  {
   "cell_type": "code",
   "execution_count": 29,
   "metadata": {},
   "outputs": [
    {
     "data": {
      "text/html": [
       "<div>\n",
       "<style scoped>\n",
       "    .dataframe tbody tr th:only-of-type {\n",
       "        vertical-align: middle;\n",
       "    }\n",
       "\n",
       "    .dataframe tbody tr th {\n",
       "        vertical-align: top;\n",
       "    }\n",
       "\n",
       "    .dataframe thead th {\n",
       "        text-align: right;\n",
       "    }\n",
       "</style>\n",
       "<table border=\"1\" class=\"dataframe\">\n",
       "  <thead>\n",
       "    <tr style=\"text-align: right;\">\n",
       "      <th></th>\n",
       "      <th>index</th>\n",
       "      <th>Year</th>\n",
       "      <th>Average Unemployment Rate</th>\n",
       "      <th>Average Percentage with High School Completion or higher of people over the age of 25 (%)</th>\n",
       "    </tr>\n",
       "  </thead>\n",
       "  <tbody>\n",
       "    <tr>\n",
       "      <th>0</th>\n",
       "      <td>0</td>\n",
       "      <td>2013</td>\n",
       "      <td>6.749020</td>\n",
       "      <td>88.243137</td>\n",
       "    </tr>\n",
       "    <tr>\n",
       "      <th>1</th>\n",
       "      <td>1</td>\n",
       "      <td>2014</td>\n",
       "      <td>5.743137</td>\n",
       "      <td>88.545098</td>\n",
       "    </tr>\n",
       "    <tr>\n",
       "      <th>2</th>\n",
       "      <td>2</td>\n",
       "      <td>2015</td>\n",
       "      <td>5.011765</td>\n",
       "      <td>88.805882</td>\n",
       "    </tr>\n",
       "    <tr>\n",
       "      <th>3</th>\n",
       "      <td>3</td>\n",
       "      <td>2016</td>\n",
       "      <td>4.650980</td>\n",
       "      <td>89.039216</td>\n",
       "    </tr>\n",
       "    <tr>\n",
       "      <th>4</th>\n",
       "      <td>4</td>\n",
       "      <td>2017</td>\n",
       "      <td>4.158824</td>\n",
       "      <td>89.509804</td>\n",
       "    </tr>\n",
       "    <tr>\n",
       "      <th>5</th>\n",
       "      <td>5</td>\n",
       "      <td>2018</td>\n",
       "      <td>3.768627</td>\n",
       "      <td>89.823529</td>\n",
       "    </tr>\n",
       "    <tr>\n",
       "      <th>6</th>\n",
       "      <td>6</td>\n",
       "      <td>2019</td>\n",
       "      <td>3.582353</td>\n",
       "      <td>90.170588</td>\n",
       "    </tr>\n",
       "  </tbody>\n",
       "</table>\n",
       "</div>"
      ],
      "text/plain": [
       "   index  Year  Average Unemployment Rate  \\\n",
       "0      0  2013                   6.749020   \n",
       "1      1  2014                   5.743137   \n",
       "2      2  2015                   5.011765   \n",
       "3      3  2016                   4.650980   \n",
       "4      4  2017                   4.158824   \n",
       "5      5  2018                   3.768627   \n",
       "6      6  2019                   3.582353   \n",
       "\n",
       "   Average Percentage with High School Completion or higher of people over the age of 25 (%)  \n",
       "0                                          88.243137                                          \n",
       "1                                          88.545098                                          \n",
       "2                                          88.805882                                          \n",
       "3                                          89.039216                                          \n",
       "4                                          89.509804                                          \n",
       "5                                          89.823529                                          \n",
       "6                                          90.170588                                          "
      ]
     },
     "execution_count": 29,
     "metadata": {},
     "output_type": "execute_result"
    }
   ],
   "source": [
    "grouped_by_year = df.groupby(\"Year\")\n",
    "final_df = grouped_by_year[[\"Unemployment_rate\", \"Percentage with high school completion or higher (%)  total\"]].mean()\n",
    "final_df.head(10)\n",
    "final_df = final_df.reset_index()\n",
    "final_df_csv = pd.DataFrame(final_df)\n",
    "final_df_csv.rename(columns = {\"Unemployment_rate\": \"Average Unemployment Rate\"}, inplace = True)\n",
    "final_df_csv.rename(columns = {\"Percentage with high school completion or higher (%)  total\": \n",
    "                               \"Average Percentage with High School Completion or higher of people over the age of 25 (%)\"}, inplace = True)\n",
    "final_df_csv"
   ]
  },
  {
   "cell_type": "code",
   "execution_count": 5,
   "metadata": {},
   "outputs": [
    {
     "name": "stderr",
     "output_type": "stream",
     "text": [
      "/var/folders/s9/xtd7tmb548gcv5g3kzf1d9tr0000gn/T/ipykernel_1062/2145456436.py:3: FutureWarning: The default of observed=False is deprecated and will be changed to True in a future version of pandas. Pass observed=False to retain current behavior or observed=True to adopt the future default and silence this warning.\n",
      "  binned_df = df.groupby(\"binning\")['Percentage with high school completion or higher (%)  total'].mean().reset_index()\n"
     ]
    },
    {
     "data": {
      "text/html": [
       "<div>\n",
       "<style scoped>\n",
       "    .dataframe tbody tr th:only-of-type {\n",
       "        vertical-align: middle;\n",
       "    }\n",
       "\n",
       "    .dataframe tbody tr th {\n",
       "        vertical-align: top;\n",
       "    }\n",
       "\n",
       "    .dataframe thead th {\n",
       "        text-align: right;\n",
       "    }\n",
       "</style>\n",
       "<table border=\"1\" class=\"dataframe\">\n",
       "  <thead>\n",
       "    <tr style=\"text-align: right;\">\n",
       "      <th></th>\n",
       "      <th>Per capita personal income</th>\n",
       "      <th>Percentage with high school completion or higher of people age 25 and over (average)</th>\n",
       "    </tr>\n",
       "  </thead>\n",
       "  <tbody>\n",
       "    <tr>\n",
       "      <th>0</th>\n",
       "      <td>(30000.0, 40000.0]</td>\n",
       "      <td>85.902222</td>\n",
       "    </tr>\n",
       "    <tr>\n",
       "      <th>1</th>\n",
       "      <td>(40000.0, 50000.0]</td>\n",
       "      <td>88.899412</td>\n",
       "    </tr>\n",
       "    <tr>\n",
       "      <th>2</th>\n",
       "      <td>(50000.0, 60000.0]</td>\n",
       "      <td>90.557692</td>\n",
       "    </tr>\n",
       "    <tr>\n",
       "      <th>3</th>\n",
       "      <td>(60000.0, inf]</td>\n",
       "      <td>90.381579</td>\n",
       "    </tr>\n",
       "  </tbody>\n",
       "</table>\n",
       "</div>"
      ],
      "text/plain": [
       "  Per capita personal income  \\\n",
       "0         (30000.0, 40000.0]   \n",
       "1         (40000.0, 50000.0]   \n",
       "2         (50000.0, 60000.0]   \n",
       "3             (60000.0, inf]   \n",
       "\n",
       "   Percentage with high school completion or higher of people age 25 and over (average)  \n",
       "0                                          85.902222                                     \n",
       "1                                          88.899412                                     \n",
       "2                                          90.557692                                     \n",
       "3                                          90.381579                                     "
      ]
     },
     "execution_count": 5,
     "metadata": {},
     "output_type": "execute_result"
    }
   ],
   "source": [
    "bin = [30000, 40000, 50000, 60000, np.inf]\n",
    "df['binning']= pd.cut(df[\"Per capita personal income\"], bins = bin)\n",
    "binned_df = df.groupby(\"binning\")['Percentage with high school completion or higher (%)  total'].mean().reset_index()\n",
    "binned_df_csv = pd.DataFrame(binned_df)\n",
    "binned_df_csv.rename(columns = {\"binning\": \"Per capita personal income\", \n",
    "                                \"Percentage with high school completion or higher (%)  total\": \n",
    "                                \"Percentage with high school completion or higher of people age 25 and over (average)\"\n",
    "                                })\n",
    "                                "
   ]
  },
  {
   "cell_type": "code",
   "execution_count": 31,
   "metadata": {},
   "outputs": [
    {
     "data": {
      "image/png": "[encoded data removed]",
      "text/plain": [
       "<Figure size 800x600 with 2 Axes>"
      ]
     },
     "metadata": {},
     "output_type": "display_data"
    }
   ],
   "source": [
    "fig, axis1 = plt.subplots(figsize = (8, 6))\n",
    "axis1.bar(final_df[\"Year\"], final_df[\"Unemployment_rate\"], color = \"Blue\", alpha = 0.6, label = \"Unployment rate\")\n",
    "# xtick = axis1.set_xticklabels(axis1.get_xticklabels(), rotation = 90, fontsize = 8)\n",
    "axis2 = axis1.twinx()\n",
    "axis2.plot(final_df[\"Year\"], final_df[\"Percentage with high school completion or higher (%)  total\"], color = \"Orange\", \n",
    "           marker = \"o\", linestyle = \"-\", label = \"Percentage with high school completion or higher (%) of people over the age of 25\")\n",
    "axis1.set_xlabel(\"Years\")\n",
    "axis1.set_ylabel(\"Unployment rate (average across all states)\", color = \"Blue\")\n",
    "axis2.set_ylabel(\"Percentage with high school completion or higher (%) \\n of people over the age of 25 (average across all states)\", \n",
    "                 color = \"Orange\", rotation = 270)\n",
    "axis2.yaxis.set_label_coords(1.15, 0.5)\n",
    "plt.title(\"Unemployment rate vs Percentage with high school completion or higher (%) of people over the age of 25 from 2013 to 2019 across all states\")\n",
    "plt.show()"
   ]
  }
 ],
 "metadata": {
  "kernelspec": {
   "display_name": "Python 3",
   "language": "python",
   "name": "python3"
  },
  "language_info": {
   "codemirror_mode": {
    "name": "ipython",
    "version": 3
   },
   "file_extension": ".py",
   "mimetype": "text/x-python",
   "name": "python",
   "nbconvert_exporter": "python",
   "pygments_lexer": "ipython3",
   "version": "3.10.6"
  },
  "orig_nbformat": 4
 },
 "nbformat": 4,
 "nbformat_minor": 2
}
